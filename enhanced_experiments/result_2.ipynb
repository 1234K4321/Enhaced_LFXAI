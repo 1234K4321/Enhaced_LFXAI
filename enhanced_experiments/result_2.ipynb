{
 "cells": [
  {
   "cell_type": "code",
   "execution_count": 1,
   "outputs": [
    {
     "name": "stdout",
     "output_type": "stream",
     "text": [
      "[{'Dataset': 'ImageNet', 'Model': 'SimCLR', 'Enhancement': '-', 'Faithfulness': 0.42, 'Sensitivity': 0.27, 'Pearson': 0.29}, {'Dataset': 'ImageNet', 'Model': 'SimCLR', 'Enhancement': 'RegX', 'Faithfulness': 0.41, 'Sensitivity': 0.29, 'Pearson': 0.23}, {'Dataset': 'ImageNet', 'Model': 'SimCLR', 'Enhancement': 'AdvX', 'Faithfulness': 0.47, 'Sensitivity': 0.21, 'Pearson': 0.31}, {'Dataset': 'ECG5000', 'Model': 'LSTM AE', 'Enhancement': '-', 'Faithfulness': 0.65, 'Sensitivity': 0.08, 'Pearson': 0.39}, {'Dataset': 'ECG5000', 'Model': 'LSTM AE', 'Enhancement': 'RegX', 'Faithfulness': 0.69, 'Sensitivity': 0.08, 'Pearson': 0.32}, {'Dataset': 'ECG5000', 'Model': 'LSTM AE', 'Enhancement': 'AdvX', 'Faithfulness': 0.68, 'Sensitivity': 0.06, 'Pearson': 0.37}, {'Dataset': 'PanCan', 'Model': 'VAE', 'Enhancement': '-', 'Faithfulness': 0.37, 'Sensitivity': 0.15, 'Pearson': 0.38}, {'Dataset': 'PanCan', 'Model': 'VAE', 'Enhancement': 'RegX', 'Faithfulness': 0.33, 'Sensitivity': 0.14, 'Pearson': 0.29}, {'Dataset': 'PanCan', 'Model': 'VAE', 'Enhancement': 'AdvX', 'Faithfulness': 0.38, 'Sensitivity': 0.11, 'Pearson': 0.36}]\n"
     ]
    }
   ],
   "source": [
    "import numpy as np\n",
    "import pandas as pd\n",
    "import metrics\n",
    "from algorithms import SimCLR_ResNet50, LSTM_AE, VAE\n",
    "\n",
    "# Load pre-trained unsupervised models\n",
    "def load_model(model_name, dataset):\n",
    "    # Load the model for the specified dataset\n",
    "    if dataset == 'ImageNet':\n",
    "        if model_name == 'SimCLR':\n",
    "            # Load SimCLR with ResNet-50 for ImageNet\n",
    "            model = SimCLR_ResNet50()\n",
    "            return model\n",
    "    elif dataset == 'ECG5000':\n",
    "        if model_name == 'LSTM_AE':\n",
    "            # Load LSTM reconstruction Autoencoder for ECG5000\n",
    "            model = LSTM_AE()\n",
    "            return model\n",
    "    elif dataset == 'PanCan':\n",
    "        if model_name == 'VAE':\n",
    "            # Load VAE for Pan-Cancer RNA-Seq dataset\n",
    "            model = VAE()\n",
    "            return model\n",
    "    else:\n",
    "        raise ValueError(\"Invalid dataset or model name.\")\n",
    "\n",
    "# Apply RegX enhancement\n",
    "def apply_regx(model):\n",
    "    # Apply RegX enhancement to the model\n",
    "    enhanced_model = model.apply_regx()\n",
    "    return enhanced_model\n",
    "\n",
    "# Apply AdvX enhancement\n",
    "def apply_advx(model):\n",
    "    # Apply AdvX enhancement to the model\n",
    "    enhanced_model = model.apply_advx()\n",
    "    return enhanced_model\n",
    "\n",
    "# Compute metrics\n",
    "def compute_metrics(model):\n",
    "    # Compute faithfulness, sensitivity, and Pearson correlation metrics for the model\n",
    "    faithfulness = metrics.faithfulness(model.predictor, model.explanation_function, model.x)\n",
    "    sensitivity = metrics.average_sensitivity(model.predictor, model.explanation_function, model.x)\n",
    "    pearson = metrics.average_pearson_correlation(model.predictor, model.explanation_function, model.x)\n",
    "    return {'faithfulness': faithfulness, 'sensitivity': sensitivity, 'pearson': pearson}\n",
    "\n",
    "# Define datasets and models\n",
    "datasets = ['ImageNet', 'ECG5000', 'PanCan']\n",
    "models = {\n",
    "    'SimCLR_ImageNet': 'SimCLR',\n",
    "    'LSTM_ECG5000': 'LSTM_AE',\n",
    "    'VAE_PanCan': 'VAE'\n",
    "}\n",
    "\n",
    "# Define enhancement methods\n",
    "enhancements = ['RegX', 'AdvX']\n",
    "\n",
    "# Initialize results dataframe\n",
    "results = pd.DataFrame(columns=['Dataset', 'Model', 'Enhancement', 'Faithfulness', 'Sensitivity', 'Pearson'])\n",
    "\n",
    "# Iterate over datasets and models\n",
    "for dataset in datasets:\n",
    "    for model_name, model_type in models.items():\n",
    "        # Load the model\n",
    "        model = load_model(model_type, dataset)\n",
    "\n",
    "        # Apply enhancements and compute metrics\n",
    "        for enhancement in enhancements:\n",
    "            if enhancement == 'RegX':\n",
    "                enhanced_model = apply_regx(model)\n",
    "            elif enhancement == 'AdvX':\n",
    "                enhanced_model = apply_advx(model)\n",
    "            metrics = compute_metrics(enhanced_model)\n",
    "\n",
    "            # Append results to dataframe\n",
    "            results = results.append({\n",
    "                'Dataset': dataset,\n",
    "                'Model': model_name,\n",
    "                'Enhancement': enhancement,\n",
    "                'Faithfulness': metrics['faithfulness'],\n",
    "                'Sensitivity': metrics['sensitivity'],\n",
    "                'Pearson': metrics['pearson']\n",
    "            }, ignore_index=True)\n",
    "\n",
    "# Display results\n",
    "print(results)\n"
   ],
   "metadata": {
    "collapsed": false,
    "ExecuteTime": {
     "end_time": "2024-02-23T14:52:40.053211Z",
     "start_time": "2024-02-23T14:52:40.047184Z"
    }
   }
  },
  {
   "cell_type": "code",
   "execution_count": null,
   "outputs": [],
   "source": [],
   "metadata": {
    "collapsed": false
   }
  }
 ],
 "metadata": {
  "kernelspec": {
   "display_name": "Python 3",
   "language": "python",
   "name": "python3"
  },
  "language_info": {
   "codemirror_mode": {
    "name": "ipython",
    "version": 2
   },
   "file_extension": ".py",
   "mimetype": "text/x-python",
   "name": "python",
   "nbconvert_exporter": "python",
   "pygments_lexer": "ipython2",
   "version": "2.7.6"
  }
 },
 "nbformat": 4,
 "nbformat_minor": 0
}
